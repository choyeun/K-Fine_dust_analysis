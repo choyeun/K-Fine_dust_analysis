{
 "cells": [
  {
   "cell_type": "code",
   "id": "initial_id",
   "metadata": {
    "collapsed": true,
    "ExecuteTime": {
     "end_time": "2024-11-10T13:16:17.176853Z",
     "start_time": "2024-11-10T13:16:17.174210Z"
    }
   },
   "source": [
    "import pandas as pd\n",
    "from matplotlib import font_manager, rc, pyplot as plt\n",
    "\n",
    "# Windows에서 한글 폰트 설정 (예: 맑은 고딕)\n",
    "font_path = \"C:/Windows/Fonts/malgun.ttf\"\n",
    "font_name = font_manager.FontProperties(fname=font_path).get_name()\n",
    "rc('font', family=font_name)"
   ],
   "outputs": [],
   "execution_count": 2
  },
  {
   "metadata": {},
   "cell_type": "code",
   "source": [
    "# 데이터 읽기 및 타입 변환\n",
    "data = pd.read_csv('./merged_sorted.csv')\n",
    "data['날짜'] = pd.to_datetime(data['날짜'])\n",
    "\n",
    "# 월별 평균 구하기\n",
    "data['월'] = data['날짜'].dt.to_period('M')\n",
    "monthly_data = data.groupby('월').mean(numeric_only=True)  # 숫자형 데이터만 평균 계산\n",
    "\n",
    "# 그래프 그리기\n",
    "plt.figure(figsize=(14, 8))\n",
    "for column in monthly_data.columns:\n",
    "    plt.plot(monthly_data.index.astype(str), monthly_data[column], label=column)\n",
    "\n",
    "plt.title(\"월 평균 미세먼지 농도 - 지역별\")\n",
    "plt.xlabel(\"월\")\n",
    "plt.ylabel(\"미세먼지 농도 (µg/m³)\")\n",
    "plt.legend(loc=\"upper right\", ncol=2)\n",
    "plt.xticks(rotation=45)\n",
    "plt.tight_layout()\n",
    "plt.show()"
   ],
   "id": "709236819a207a88",
   "outputs": [],
   "execution_count": null
  },
  {
   "metadata": {},
   "cell_type": "code",
   "source": [
    "# Calculate the monthly mean across all regions (i.e., nationwide average)\n",
    "monthly_data['전국 평균'] = monthly_data.mean(axis=1)\n",
    "\n",
    "# Plot monthly average PM levels for the entire country\n",
    "plt.figure(figsize=(12, 6))\n",
    "plt.plot(monthly_data.index.astype(str), monthly_data['전국 평균'], label=\"전국 평균\", marker='o')\n",
    "\n",
    "plt.title(\"월 평균 미세먼지 농도 - 대한민국 전체\")\n",
    "plt.xlabel(\"월\")\n",
    "plt.ylabel(\"미세먼지 농도 (µg/m³)\")\n",
    "plt.legend()\n",
    "plt.xticks(rotation=45)\n",
    "plt.tight_layout()\n",
    "plt.show()"
   ],
   "id": "39789c90af92cf47",
   "outputs": [],
   "execution_count": null
  },
  {
   "metadata": {},
   "cell_type": "code",
   "source": [
    "# '계절' 컬럼을 추가\n",
    "def get_season(month):\n",
    "    if month in [12, 1, 2]:\n",
    "        return '겨울'\n",
    "    elif month in [3, 4, 5]:\n",
    "        return '봄'\n",
    "    elif month in [6, 7, 8]:\n",
    "        return '여름'\n",
    "    else:\n",
    "        return '가을'\n",
    "\n",
    "data['계절'] = data['날짜'].dt.month.apply(get_season)\n",
    "\n",
    "# 계절별 평균값 계산 (숫자형 데이터만 포함)\n",
    "seasonal_data = data.groupby('계절').mean(numeric_only=True)\n",
    "\n",
    "# 그래프 그리기\n",
    "plt.figure(figsize=(14, 8))\n",
    "for column in seasonal_data.columns:\n",
    "    plt.plot(seasonal_data.index, seasonal_data[column], label=column, marker='o')\n",
    "\n",
    "plt.title(\"계절별 미세먼지 농도 - 지역별\")\n",
    "plt.xlabel(\"계절\")\n",
    "plt.ylabel(\"미세먼지 농도 (µg/m³)\")\n",
    "plt.legend(loc=\"upper right\", ncol=2)\n",
    "plt.tight_layout()\n",
    "plt.show()"
   ],
   "id": "a9687876f46e4229",
   "outputs": [],
   "execution_count": null
  },
  {
   "metadata": {},
   "cell_type": "code",
   "source": [
    "# Calculate the seasonal mean across all regions (i.e., nationwide average)\n",
    "seasonal_data['전국 평균'] = seasonal_data.mean(axis=1)\n",
    "\n",
    "# Plot seasonal average PM levels for the entire country\n",
    "plt.figure(figsize=(10, 6))\n",
    "plt.plot(seasonal_data.index, seasonal_data['전국 평균'], label=\"전국 평균\", marker='o')\n",
    "\n",
    "plt.title(\"계절별 미세먼지 농도 - 대한민국 전체\")\n",
    "plt.xlabel(\"계절\")\n",
    "plt.ylabel(\"미세먼지 농도 (µg/m³)\")\n",
    "plt.legend()\n",
    "plt.xticks(rotation=45)\n",
    "plt.tight_layout()\n",
    "plt.show()"
   ],
   "id": "59b4758e0a81c5a5",
   "outputs": [],
   "execution_count": null
  }
 ],
 "metadata": {
  "kernelspec": {
   "display_name": "Python 3",
   "language": "python",
   "name": "python3"
  },
  "language_info": {
   "codemirror_mode": {
    "name": "ipython",
    "version": 2
   },
   "file_extension": ".py",
   "mimetype": "text/x-python",
   "name": "python",
   "nbconvert_exporter": "python",
   "pygments_lexer": "ipython2",
   "version": "2.7.6"
  }
 },
 "nbformat": 4,
 "nbformat_minor": 5
}
